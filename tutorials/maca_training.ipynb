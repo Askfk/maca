{
  "nbformat": 4,
  "nbformat_minor": 0,
  "metadata": {
    "colab": {
      "name": "maca_training.ipynb",
      "provenance": [],
      "collapsed_sections": []
    },
    "kernelspec": {
      "name": "python3",
      "display_name": "Python 3"
    },
    "accelerator": "GPU"
  },
  "cells": [
    {
      "cell_type": "markdown",
      "metadata": {
        "id": "Pk8ryK0D8tUy",
        "colab_type": "text"
      },
      "source": [
        "# **0 Befor Running:**\n",
        "\n",
        "If you are running this tutorial on google colab, make sure to set runtime type to gpu, which will accelerate the running speed.\n",
        "\n",
        "If you are running this tutorial locally, make sure you have already setup python3 + jupyter notebook environments."
      ]
    },
    {
      "cell_type": "markdown",
      "metadata": {
        "id": "3fBTZpgB8wP3",
        "colab_type": "text"
      },
      "source": [
        "# **1 Download Materials**\n",
        "\n",
        "Materials downloaded includes:\n",
        "\n",
        "\n",
        "\n",
        "*   Basic source codes (concrete codes please check [my personal github repository](https://github.com/Askfk/maca.git))\n",
        "*   Required packages\n",
        "*   Well-trained weights\n",
        "*   CocoVG dataset\n",
        "\n",
        "\n",
        "---\n",
        "\n",
        "\n",
        "\n",
        "Basic source code directory named maca will be download to `\"../content/maca/\"`\n",
        "\n",
        "Well-trained weights **maca_cocovg.hdf5** will be downloaded to `\"../content/maca/weights/maca_cocovg.hdf5\"`\n",
        "\n",
        "CocoVG dataset will be downloaded and unzipped to `\"../content/maca/CocoVG/\"`"
      ]
    },
    {
      "cell_type": "markdown",
      "metadata": {
        "id": "p1dxx3_eg0CL",
        "colab_type": "text"
      },
      "source": [
        "## **1.1 Download basic source code**"
      ]
    },
    {
      "cell_type": "code",
      "metadata": {
        "id": "_0gsa0gO8Os3",
        "colab_type": "code",
        "colab": {}
      },
      "source": [
        "# Download basic source code, Askfk is the user name of my personal github account.\n",
        "!git clone https://github.com/Askfk/maca.git"
      ],
      "execution_count": null,
      "outputs": []
    },
    {
      "cell_type": "markdown",
      "metadata": {
        "id": "MAJNxrqp81fE",
        "colab_type": "text"
      },
      "source": [
        "## **1.2 Download and import required packages**\n",
        "These packages requirements are all wrote in requirements.txt, required packages include **tensorflow == 2.3.0, scipy, numpy, matplotlib, pillow, absl-py, pycocotools, six, keras_applications and skimage**. If there is any packages required in follow codes than cannot be donwloaded successfully here, please download them manully by **!pip install packagename**"
      ]
    },
    {
      "cell_type": "code",
      "metadata": {
        "id": "tEuBTDJc84YS",
        "colab_type": "code",
        "colab": {}
      },
      "source": [
        "# Install all required packages\n",
        "!pip install -r /content/maca/requirements.txt"
      ],
      "execution_count": null,
      "outputs": []
    },
    {
      "cell_type": "code",
      "metadata": {
        "id": "7UPzzJx19Na9",
        "colab_type": "code",
        "colab": {}
      },
      "source": [
        "# import necessary packages and setup project path\n",
        "import os\n",
        "import sys\n",
        "import random\n",
        "import math\n",
        "import re\n",
        "import time\n",
        "import numpy as np\n",
        "import json\n",
        "import tensorflow as tf\n",
        "\n",
        "\n",
        "print(tf.__version__)\n",
        "\n",
        "# Initialize the file path\n",
        "ROOT_DIR = os.path.abspath(\"/content\")\n",
        "if not os.path.exists(ROOT_DIR):\n",
        "    os.mkdir(ROOT_DIR)\n",
        "\n",
        "MACA_DIR = os.path.join(ROOT_DIR, 'maca')\n",
        "WEIGHT_DIR = os.path.join(MACA_DIR, 'weights')\n",
        "DATASET_DIR = os.path.join(MACA_DIR, 'COCOVG')\n",
        "\n",
        "sys.path.append(ROOT_DIR)  # To find local version of the library\n",
        "\n",
        "from maca.macacripts import utils\n",
        "from maca.macacripts import visualize\n",
        "import maca.MACA as MACA\n",
        "from maca.macacripts.utils import log\n",
        "from maca.config import Config\n",
        "from maca.macacripts.cocovg import CocoVGConfig, CocoVGDataset\n",
        "from maca.pycocoevalcap.eval import eval\n",
        "\n",
        "MODEL_DIR = os.path.join(ROOT_DIR, \"logs\")\n",
        "WEIGHT_PATH = os.path.join(WEIGHT_DIR, \"maca_cocovg.hdf5\")"
      ],
      "execution_count": null,
      "outputs": []
    },
    {
      "cell_type": "markdown",
      "metadata": {
        "id": "Gh6ar5eq9qxC",
        "colab_type": "text"
      },
      "source": [
        "## **1.3 Download well-trained weights**\n",
        "\n",
        "Well-trained weights maca_cocovg.hdf5 will be downloaded to **/content/maca/weights/maca_cocovg.hdf5**"
      ]
    },
    {
      "cell_type": "code",
      "metadata": {
        "id": "wO6dizoK9r67",
        "colab_type": "code",
        "colab": {}
      },
      "source": [
        "if not os.path.exists(WEIGHT_DIR):\n",
        "    os.mkdir(WEIGHT_DIR)\n",
        "    utils.download_trained_weights(WEIGHT_PATH)"
      ],
      "execution_count": null,
      "outputs": []
    },
    {
      "cell_type": "markdown",
      "metadata": {
        "id": "ZOF2pD_99uyY",
        "colab_type": "text"
      },
      "source": [
        "## **1.4 Download CocoVG dataset**\n",
        "\n",
        "CocoVG dataset zip file will be downloaded to **/content** and then be unzipped to **/content/maca/COCOVG/**"
      ]
    },
    {
      "cell_type": "code",
      "metadata": {
        "id": "fkpfgDng9vlJ",
        "colab_type": "code",
        "colab": {}
      },
      "source": [
        "if not os.path.exists(DATASET_DIR):\n",
        "    utils.download_dataset(\"/content/cocovg.zip\")\n",
        "    !unzip -uq '/content/cocovg.zip' -d \"/content/maca\""
      ],
      "execution_count": null,
      "outputs": []
    },
    {
      "cell_type": "markdown",
      "metadata": {
        "id": "KzS0arKO90Tz",
        "colab_type": "text"
      },
      "source": [
        "# **2 Initialize materials**\n",
        "\n",
        "\n",
        "*   Dataset\n",
        "*   Tokenizer\n",
        "*   Model\n",
        "*   Plot model architecture"
      ]
    },
    {
      "cell_type": "markdown",
      "metadata": {
        "id": "TZFj4U9N91P-",
        "colab_type": "text"
      },
      "source": [
        "## **2.1 Initialize dataset**\n",
        "\n",
        "Initialize train dataset and validation dataset"
      ]
    },
    {
      "cell_type": "code",
      "metadata": {
        "id": "1zNMZi9q93Ee",
        "colab_type": "code",
        "colab": {}
      },
      "source": [
        "dataset_train = CocoVGDataset()\n",
        "dataset_train.initalize_dataset(DATASET_DIR, 'train')\n",
        "dataset_train.prepare()\n",
        "\n",
        "dataset_val = CocoVGDataset()\n",
        "dataset_val.initalize_dataset(DATASET_DIR, 'val')\n",
        "dataset_val.prepare()"
      ],
      "execution_count": null,
      "outputs": []
    },
    {
      "cell_type": "markdown",
      "metadata": {
        "id": "EhtQpPAe95dX",
        "colab_type": "text"
      },
      "source": [
        "## **2.2 Initialize Tokenizer**\n",
        "\n",
        "Initialize tokenizer for further convert sentence to token vector or convert token vector back to sencence."
      ]
    },
    {
      "cell_type": "code",
      "metadata": {
        "id": "a7sw-sGx958D",
        "colab_type": "code",
        "colab": {}
      },
      "source": [
        "with open(os.path.join(DATASET_DIR, 'tokenizer.json'), 'r') as load_f:\n",
        "  js_tok = json.load(load_f)\n",
        "tokenizer = tf.keras.preprocessing.text.tokenizer_from_json(js_tok)"
      ],
      "execution_count": null,
      "outputs": []
    },
    {
      "cell_type": "markdown",
      "metadata": {
        "id": "eoBBgZ0A98oZ",
        "colab_type": "text"
      },
      "source": [
        "## **2.3 Initialize MACA in training mode**\n",
        "\n",
        "For training MACA, it is necessary to initialize MACA in training mode."
      ]
    },
    {
      "cell_type": "code",
      "metadata": {
        "id": "TiW8s5Js9_pg",
        "colab_type": "code",
        "colab": {}
      },
      "source": [
        "# Create model in training mode\n",
        "model = modellib.MACA(mode=\"training\", config=config,\n",
        "                      model_dir=MODEL_DIR, tokenizer=tokenizer)\n",
        "model.load_weights(WEIGHT_PATH, by_name=True)"
      ],
      "execution_count": null,
      "outputs": []
    },
    {
      "cell_type": "markdown",
      "metadata": {
        "id": "20O4MdAb-Ky1",
        "colab_type": "text"
      },
      "source": [
        "## **2.4 Plot model architecture**\n",
        "Show MACA model architecture and running flow by table and diagram."
      ]
    },
    {
      "cell_type": "code",
      "metadata": {
        "id": "CCevPXqR-LM4",
        "colab_type": "code",
        "colab": {}
      },
      "source": [
        "model.model.summary()"
      ],
      "execution_count": null,
      "outputs": []
    },
    {
      "cell_type": "code",
      "metadata": {
        "id": "KcAiG4nY-MZB",
        "colab_type": "code",
        "colab": {}
      },
      "source": [
        "tf.keras.utils.plot_model(model.model, to_file=os.path.join(ROOT_DIR, 'model_improvement_training.png'), show_shapes=True,\n",
        "                          show_layer_names=True)"
      ],
      "execution_count": null,
      "outputs": []
    },
    {
      "cell_type": "markdown",
      "metadata": {
        "id": "6G46k4hJ-Qx3",
        "colab_type": "text"
      },
      "source": [
        "# **Train the model in 3 steps**\n",
        "\n",
        "\n",
        "*   Training the heads of MACA\n",
        "*   Training middle (LN, MDN and CDN) parts\n",
        "*   Training the whole model\n",
        "\n"
      ]
    },
    {
      "cell_type": "markdown",
      "metadata": {
        "id": "tDIO5sX2-UUm",
        "colab_type": "text"
      },
      "source": [
        "# **1. Train heads**"
      ]
    },
    {
      "cell_type": "code",
      "metadata": {
        "id": "_LDojsvs-W3M",
        "colab_type": "code",
        "colab": {}
      },
      "source": [
        "model.train(dataset_train, dataset_val, \n",
        "            learning_rate=0.00001,\n",
        "            epochs=20,\n",
        "            layers=\"heads\",\n",
        "            verbose=1)"
      ],
      "execution_count": null,
      "outputs": []
    },
    {
      "cell_type": "markdown",
      "metadata": {
        "id": "fQnbLD6W-e46",
        "colab_type": "text"
      },
      "source": [
        "# **2. Train middle parts**"
      ]
    },
    {
      "cell_type": "code",
      "metadata": {
        "id": "77JMzCiy-h5y",
        "colab_type": "code",
        "colab": {}
      },
      "source": [
        "model.train(dataset_train, dataset_val, \n",
        "            learning_rate=0.00001,\n",
        "            epochs=40,\n",
        "            layers=\"3+\",\n",
        "            verbose=1)"
      ],
      "execution_count": null,
      "outputs": []
    },
    {
      "cell_type": "markdown",
      "metadata": {
        "id": "j6Y_YPR0-lW1",
        "colab_type": "text"
      },
      "source": [
        "# **3. Train the whole model**"
      ]
    },
    {
      "cell_type": "code",
      "metadata": {
        "id": "U4-YXv_z-n2A",
        "colab_type": "code",
        "colab": {}
      },
      "source": [
        "model.train(dataset_train, dataset_val, \n",
        "            learning_rate=0.000001,\n",
        "            epochs=80,\n",
        "            layers=\"all\",\n",
        "            verbose=1)"
      ],
      "execution_count": null,
      "outputs": []
    }
  ]
}